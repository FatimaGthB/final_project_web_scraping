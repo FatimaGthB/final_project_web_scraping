{
 "cells": [
  {
   "cell_type": "markdown",
   "metadata": {},
   "source": [
    "1.  Scrape news headlines from a chosen website and return them as a list of dictionaries."
   ]
  },
  {
   "cell_type": "code",
   "execution_count": 1,
   "metadata": {},
   "outputs": [],
   "source": [
    "import requests\n",
    "from bs4 import BeautifulSoup\n",
    "\n"
   ]
  },
  {
   "cell_type": "code",
   "execution_count": 2,
   "metadata": {},
   "outputs": [],
   "source": [
    "# we define a clean_text function to clean the output of unwanted characters for better readability\n",
    "def clean_text(str):\n",
    "    return str.replace(\"\\xa0\", \" \")"
   ]
  },
  {
   "cell_type": "code",
   "execution_count": 3,
   "metadata": {},
   "outputs": [],
   "source": [
    "def get_news_headlines(url):\n",
    "    \n",
    "    HEADERS = {'User-Agent': 'Mozilla/5.0 (Windows NT 10.0; Win64; x64) AppleWebKit/537.36 (KHTML, like Gecko) Chrome/58.0.3029.110 Safari/537.3'}\n",
    "\n",
    "    response = requests.get(url, headers=HEADERS)\n",
    "\n",
    "    # Check if the request was successful (status 200)\n",
    "    \n",
    "    if response.status_code == 200:\n",
    "        # Analyze the page's HTML content\n",
    "        soup = BeautifulSoup(response.text, \"html.parser\")\n",
    "        \n",
    "        titles = soup.findAll([\"h3\"])\n",
    "        \n",
    "        title_list = []\n",
    "\n",
    "        for title in titles :\n",
    "            news_i = {}\n",
    "            news_i['title'] = clean_text(title.text.strip())\n",
    "\n",
    "            title_list.append(news_i)\n",
    "    \n",
    "       \n",
    "        print(title_list)\n",
    "    else:\n",
    "        print(\"La requête a échoué. Statut : \", response.status_code)"
   ]
  },
  {
   "cell_type": "code",
   "execution_count": 5,
   "metadata": {},
   "outputs": [
    {
     "name": "stdout",
     "output_type": "stream",
     "text": [
      "[{'title': 'LiveIsrael denies attacking Gaza hospital but says clashes taking place around it'}, {'title': 'Full reportMiddle East leaders hold emergency summit amid siege on Gaza hospital'}, {'title': 'Israel-Hamas warFake news thrives on poorly regulated online platforms'}, {'title': 'AnalysisWhat would Israel look like under a new leader – and who would benefit?'}, {'title': 'LiveFar right clash with police near pro-Palestine march in London'}, {'title': \"'Concentration of desperation'Fears for thousands sheltering at Gaza City hospital as Israeli forces close in\"}, {'title': 'UkraineEx-Nato chief proposes country joins without Russian-occupied territories'}, {'title': 'SudanUN warns violence against civilians ‘verging on pure evil’'}, {'title': 'IcelandReykjavik declares state of emergency over volcanic eruption threat'}, {'title': 'Doctor WhoLost episodes found – but owner is reluctant to hand them to BBC'}, {'title': 'Hong KongGay Games delight city amid China’s growing hostility to LGBTQ+ community'}, {'title': 'UK politicsSunak faces Tory civil war as he holds off sacking Suella Braverman'}, {'title': 'USOhio Republicans move to exclude judges from interpreting enshrined abortion rights'}, {'title': '‘Unthinkable cruelty’Kenyan expert working at UK university denied visa for six-year-old daughter'}, {'title': 'CanadaCountry reels at ‘deliberate’ killing of boy, 11, in gangland hit targeting father'}, {'title': 'DrivingBMW, Subaru and Porsche drivers ‘more likely to cause a crash’, study finds'}, {'title': 'BrazilHow a prison gang became an international criminal leviathan'}, {'title': 'AnalysisAs its counteroffensive stalls, Ukraine signals readiness for a long war'}, {'title': '‘A revenge term’What would another four years of Trump look like?'}, {'title': 'Pinkpantheress‘I don’t think I’m very brandable. I dress weird. I’m shy’'}, {'title': 'PregnancyWhy is pre-eclampsia still causing the deaths of mothers and their babies?'}, {'title': 'Michael Winterbottom‘Studying English at Oxford University was a mistake’'}, {'title': 'This is how we do it‘I rarely allow myself to have an orgasm’'}, {'title': 'Katie Melua‘If I could change my past, I would have partied a little bit harder in my 20s’'}, {'title': 'Lynne SegalFor 50 years I’ve let friends and strangers share my house – this kind of communal living can make for better lives for all'}, {'title': 'Harry Potter’s stunt double‘Breaking my neck made a man of me’'}, {'title': '‘People are worried’The ‘prepper’ shops serving Britons who fear doomsday is coming'}, {'title': 'How two-faced Xi Jinping is exploiting war in Gaza to beget China’s new order'}, {'title': 'My life has been defined by genocide of Jewish people. I look on Gaza with concern'}, {'title': 'The death of Jezebel is the end of an era of feminism. We’re worse off without it'}, {'title': 'Will Ukraine really join the EU? The answer lies with the countries facing the bill'}, {'title': 'As a former Palestinian negotiator, I know Biden’s two-state solution is sheer delusion'}, {'title': 'Britain needs shelter from this absolute Tory shower'}, {'title': 'LiveManchester United v Luton, Arsenal v Burnley – clockwatch'}, {'title': 'Jonathan LiewTen Hag gambles on embracing the chaos'}, {'title': 'BurnleyKompany wedded to style but statistics look bleak'}, {'title': 'NewcastleHowe: we will oppose League rule to block transfers'}, {'title': 'Wolves 2-1 Spurs Lemina grabs dramatic win as hosts strike twice in added time'}, {'title': 'Football DailyOur free and (sometimes) funny email'}, {'title': 'TennisDjokovic aura looms over rivals in bid to win seventh ATP Finals'}, {'title': 'TennisMurray splits from coach Lendl after difficult season'}, {'title': 'LiveEngland set Pakistan 338 to win – Cricket World Cup'}, {'title': 'World Cup diaryA Dutch dig, urinal guards and more'}, {'title': 'Cricket World CupAustralia warm up for semi-finals with cruise past Bangladesh'}, {'title': 'ChampionshipSunderland sink Birmingham to leave Rooney winless'}, {'title': 'FootballPalmer seizes moment at Chelsea before facing off against City'}, {'title': 'SkiingShiffrin places fourth in first World Cup slalom of season after training crash'}, {'title': \"'Reason has prevailed' EU strikes landmark deal on law to restore and protect nature\"}, {'title': 'Animal welfarePremature death of 80m chickens raises concerns over UK’s fast-growing breeds'}, {'title': 'AmsterdamCity welcomes decline of nuisance tourism after ‘stay away’ drive'}, {'title': 'USPilot who tried to shut off engines says he was hallucinating on mushrooms'}, {'title': 'Danger aheadWhite Island volcano ruling could reshape adventure tourism in New Zealand'}, {'title': 'USSon of top Hollywood agent in custody after woman’s torso found in dumpster'}, {'title': 'HollywoodContract for actors includes $40m yearly in streaming bonuses'}, {'title': 'Booking.comTravel website to compensate some hotels over delayed payments but others miss out'}, {'title': '‘An exciting time’US eye operation is just latest leap forward for transplants'}, {'title': 'SpainPolice investigate possible Iran link to shooting of former politician'}, {'title': \"Play the Guardian's daily word game and share your score with your\\n        friends\"}, {'title': 'Climate changeAustralia to offer residency to displaced Tuvalu residents'}, {'title': 'Weather trackerFatal floods in Somalia and record heat in Tokyo'}, {'title': 'EnvironmentMicroplastic-eating plankton may be worsening crisis in oceans, say scientists'}, {'title': 'India Political blame game begins as ‘pollution season’ shrouds Delhi'}, {'title': 'Dream Scenario reviewNicolas Cage is at his very best in savagely funny comedy'}, {'title': '‘It is a beast that needs to be tamed’Leading novelists on how AI could rewrite the future'}, {'title': 'Sadistic and misogynistic?Row erupts over sex claims in book about George Orwell’s marriage'}, {'title': 'The Curse reviewThis exquisitely cringe-worthy drama is like nothing else on TV'}, {'title': 'Book of the dayOur Strangers by Lydia Davis review – miniature short stories'}, {'title': 'Pinkpantheress‘I don’t think I’m very brandable. I dress weird. I’m shy’'}, {'title': 'Tiny robots, giant stepsHow nanotechnology could improve cancer and fertility treatment'}, {'title': 'A sustainable alternativeHow researchers remade ‘the world’s most widely used petrochemical’'}, {'title': 'Reducing anaemiaWhy researchers are adding nutrients to salt and tea'}, {'title': 'Fashion’s microplastics problemCould a chemical found in many household products help alleviate?'}, {'title': 'Yotam Ottolenghi recipesMiddle Eastern-influenced takes on Irish classics'}, {'title': 'Soda bread ice-cream and whiskey custardPatrick Powell’s recipes for Irish-style puddings'}, {'title': 'The new veganMeera Sodha’s recipe for mushroom, Guinness and pearl barley stew'}, {'title': 'Waste notHow to turn excess sprouts into kimchi – recipe'}, {'title': 'Blind dateI was so nervous, I bombarded him with questions when I arrived'}, {'title': 'The quizWhat links pickle, fish, chip and pastry?'}, {'title': \"The kids' quizWhy do we wear socks in summer and how is glass made?\"}, {'title': 'Dom Joly looks back‘My wife says I’ve become slightly nicer in my 50s. I’m still very argumentative, but I have relaxed a bit’'}, {'title': 'TravelHow I learned to make and sleep in a Swedish snowhole – at minus 30C'}, {'title': 'Make mine a latteCoffee shades spill from TikTok into fashion mainstream'}, {'title': 'My Blonde GF'}, {'title': 'People in IsraelHow have you been affected by the Israel-Hamas war?'}, {'title': 'HealthTell us: are you struggling with medical debt in the US?'}, {'title': 'People in GazaHow have you been affected by the Israel-Hamas war?'}, {'title': 'RelationshipsTell us: did you meet your romantic partner over the age of 60?'}, {'title': 'FranceSocial media influencers feel the heat over new law on paid content'}, {'title': '‘Why did I get it?’Australian research into early onset Parkinson’s hopes to give patients answers'}, {'title': 'UkraineOn the road and into a bomb shelter mid-match with Mariupol Women'}, {'title': '‘It was a case study for what not to do’The London regeneration project that became a £100m luxury ghost town'}, {'title': 'EnvironmentCan goats and sheep stop wildfires? This shepherdess is rallying the flock'}, {'title': 'Climate crisis and China-US rivalryFive top takeaways from the Pacific’s most important summit'}, {'title': 'Lunch is servedMeet the team behind Nairobi’s vast school meals kitchen'}, {'title': 'Artificial intelligenceAI could cause ‘catastrophic’ financial crisis, says Yuval Noah Harari'}, {'title': 'Cameroonian artist Salifou Lindou‘I don’t calculate … I start from nowhere’'}, {'title': 'Shotguns, AI, strobe lightsCan anything help Canada’s polar bears and humans coexist?'}, {'title': 'WeekendWeekend podcast: Harry Potter’s stunt double on life after breaking his neck on set, and Marina Hyde on Nadine Dorries’s new book'}, {'title': 'Politics Weekly AmericaElections 2023: Republicans lose big on issue of abortion'}, {'title': 'The Audio Long Read‘Incoherence and inconsistency’: the inside story of the Rwanda deportation plan – podcast'}, {'title': 'Today in FocusSuella Braverman, the police and the protests'}, {'title': 'Football WeeklyChaos in Copenhagen and Arsenal’s easy night – Football Weekly Extra'}, {'title': 'Politics Weekly UKThe king’s speech, Suella Braverman and ‘hate marches’ – Politics Weekly UK'}, {'title': 'ScienceWhy is the Amazon rainforest drying up? – podcast'}, {'title': 'Twenty photographs of the weekThe week around the world'}, {'title': 'AustraliaHead On portrait award winners and finalists'}, {'title': '‘I just love how sisterly they are. I love the mischief’William Lepper’s best phone picture'}, {'title': 'Photos of the dayEchidna, Apophis asteroid and Taylor Swift'}, {'title': 'PhotographyThe beauty of the natural world in monochrome'}, {'title': 'The week in wildlifeSparring horses, seal pups and an ultra-rare platypus'}, {'title': 'Most viewed Most viewed'}]\n"
     ]
    }
   ],
   "source": [
    "# we apply the function to  The Guardian website\n",
    "url = \"https://www.theguardian.com/international\"\n",
    "\n",
    "get_news_headlines(url)"
   ]
  }
 ],
 "metadata": {
  "kernelspec": {
   "display_name": "Python 3",
   "language": "python",
   "name": "python3"
  },
  "language_info": {
   "codemirror_mode": {
    "name": "ipython",
    "version": 3
   },
   "file_extension": ".py",
   "mimetype": "text/x-python",
   "name": "python",
   "nbconvert_exporter": "python",
   "pygments_lexer": "ipython3",
   "version": "3.11.4"
  }
 },
 "nbformat": 4,
 "nbformat_minor": 2
}
