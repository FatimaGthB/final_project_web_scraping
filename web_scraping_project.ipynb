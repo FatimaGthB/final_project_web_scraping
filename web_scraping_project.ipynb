{
 "cells": [
  {
   "cell_type": "markdown",
   "metadata": {},
   "source": [
    "1.  Scrape news headlines from a chosen website and return them as a list of dictionaries."
   ]
  },
  {
   "cell_type": "code",
   "execution_count": 1,
   "metadata": {},
   "outputs": [],
   "source": [
    "import requests\n",
    "from bs4 import BeautifulSoup\n",
    "\n"
   ]
  },
  {
   "cell_type": "code",
   "execution_count": 2,
   "metadata": {},
   "outputs": [],
   "source": [
    "# we define a clean_text function to clean the output of unwanted characters for better readability\n",
    "def clean_text(str):\n",
    "    return str.replace(\"\\xa0\", \" \")"
   ]
  },
  {
   "cell_type": "code",
   "execution_count": 3,
   "metadata": {},
   "outputs": [],
   "source": [
    "def get_news_headlines(url):\n",
    "    \n",
    "    HEADERS = {'User-Agent': 'Mozilla/5.0 (Windows NT 10.0; Win64; x64) AppleWebKit/537.36 (KHTML, like Gecko) Chrome/58.0.3029.110 Safari/537.3'}\n",
    "\n",
    "    response = requests.get(url, headers=HEADERS)\n",
    "\n",
    "    # Check if the request was successful (status 200)\n",
    "    \n",
    "    if response.status_code == 200:\n",
    "        # Analyze the page's HTML content\n",
    "        soup = BeautifulSoup(response.text, \"html.parser\")\n",
    "        \n",
    "        titles = soup.findAll([\"h3\"])\n",
    "        \n",
    "        title_list = []\n",
    "\n",
    "        for title in titles :\n",
    "            news_i = {}\n",
    "            news_i['title'] = clean_text(title.text.strip())\n",
    "\n",
    "            title_list.append(news_i)\n",
    "    \n",
    "       \n",
    "        print(title_list)\n",
    "    else:\n",
    "        print(\"The request failed. Status : \", response.status_code)"
   ]
  },
  {
   "cell_type": "code",
   "execution_count": 4,
   "metadata": {},
   "outputs": [
    {
     "name": "stdout",
     "output_type": "stream",
     "text": [
      "[{'title': 'LiveAl-Shifa hospital ‘no longer functioning’, says WHO; US strikes two locations in Syria'}, {'title': 'Full reportTwo major Gaza hospitals close to new patients as heavy fighting rages'}, {'title': '‘This was her heaven’Son returns to Israel kibbutz where his mother was abducted'}, {'title': '‘We feel safe here’Cyprus becomes ‘haven’ after Hamas attack'}, {'title': 'LiveUK: David Cameron appointed foreign secretary as James Cleverly confirmed as home secretary'}, {'title': 'Suella Braverman Home secretary sacked after article criticising police'}, {'title': 'David CameronFormer prime minister returns to UK government as foreign secretary'}, {'title': 'Cabinet reshuffleJames Cleverly appointed home secretary in cabinet reshuffle'}, {'title': 'IndiaRescue operation under way to save workers trapped after tunnel collapse'}, {'title': 'LiveRussia-Ukraine war: Melitopol resistance kills Russian FSB trio – reports'}, {'title': 'UkraineZelenskiy warns nation to prepare for Russian attacks on infrastructure'}, {'title': 'HungaryPlan to target foreign influence fuels NGO and media fears'}, {'title': 'US newsIf Trump wins, country would look like Putin and Orbán’s ‘illiberal democracy’, Raskin says'}, {'title': 'USTrump Jr set to return to witness stand as defense makes case in fraud trial'}, {'title': 'SyriaUS announces fresh strikes on Iran-linked sites'}, {'title': 'ExclusiveWoman who suffered complications from vaginal mesh implant awarded at least £1m'}, {'title': 'Storm DebiWeather warnings in place across UK and Ireland'}, {'title': 'ThalidomideAustralian government will apologise to people affected by tragedy'}, {'title': 'Period pantsHigh silver levels in some brands could pose health risk, study says'}, {'title': '‘We save 98% of our patients’Inside a frontline Ukrainian field hospital'}, {'title': 'Xi-BidenMeeting overshadowed by conflicts in Ukraine and Israel – and US stance on Taiwan'}, {'title': 'AnalysisHow the UK far right hijacked Armistice Day'}, {'title': 'Grit and glamourHow Mahua Moitra shook up the misogyny and hypocrisy of Indian politics'}, {'title': '‘We can’t carry on’The godfather of microplastics on how to stop them'}, {'title': 'A new start after 60I learned to surf – despite the alligators'}, {'title': '‘Cary Grant’s whole life was a civil war’The TV drama unmasking Hollywood’s permatanned icon'}, {'title': '‘I was told I had lost my mojo’AJ Odudu on being sacked, fighting back – and her stunning second act'}, {'title': '‘A delirious deco dream’Former TB sanatorium is now Finland’s most unusual holiday let'}, {'title': 'The Guardian picture essayA year on the River Thames, part four'}, {'title': 'The ConversationAre your kids good around other people but behave badly with you? It’s all about consequences'}, {'title': '‘It was nearly sunset when I saw death up close’: a Gaza diary'}, {'title': 'Germany is a good place to be Jewish. Unless, like me, you’re a Jew who criticises Israel'}, {'title': 'Suella Braverman has gone, but she proved that hateful xenophobia is never far from the surface in Britain'}, {'title': 'I gave up wanting to belong and embraced being a maverick. I have never felt more free'}, {'title': 'From K-pop to reggaeton, English language music no longer reigns supreme'}, {'title': 'CartoonNicola Jennings on Macron’s Gaza ceasefire call'}, {'title': 'Premier LeagueTen talking points from the weekend’s action'}, {'title': \"‘I don’t like referees'De Zerbi fumes as Blades hold Brighton\"}, {'title': 'West Ham 3-2 Nottm ForestSoucek strikes late winner'}, {'title': 'Aston Villa 3-1 FulhamStrong home form keeps Villans in mix'}, {'title': 'Pochettino raises the pulse as Chelsea are unleashed'}, {'title': 'Chelsea 4-4 Man CityPalmer’s late penalty halts champions'}, {'title': 'ATP FinalsDjokovic beats Rune to ensure he’ll finish year world No 1'}, {'title': 'TennisBritain seal Billie Jean King Cup win over Sweden'}, {'title': 'England cricket: everyone responsible … no one accountable'}, {'title': 'Cricket World CupIndia ease to 160-run win over Netherlands'}, {'title': \"NFL reviewTexans' Stroud and Ryans have transformed post-Watson wasteland\"}, {'title': 'Bradshaw deserves credit for bringing mental health into the open'}, {'title': 'FootballKlopp rails at early kick-off for Liverpool’s Manchester City showdown'}, {'title': 'European roundupLewandowski double earns Barcelona win over Alavés'}, {'title': 'FrancePoliticians join 100,000 at Paris march against antisemitism'}, {'title': 'UK newsLondon police investigate videos of potential hate crimes at rallies'}, {'title': 'RepublicansTim Scott suspends presidential bid as Trump leads Republican pack'}, {'title': 'CanadaShots fired at another Jewish school in Montreal amid tensions over Israel-Hamas war'}, {'title': 'ICCUK government challenged over inquiry into Israel’s conduct'}, {'title': 'USCongresswoman Ilhan Omar faces Democratic primary challenge from ex-Minneapolis official'}, {'title': 'Australia Eighty freed from immigration detention since landmark high court ruling'}, {'title': 'Weather trackerUnseasonably cold and hot weather hits Scandinavia and South America'}, {'title': 'Peter NygardFashion mogul found guilty of sexual assault'}, {'title': 'RiyadhGulf states fend off call from Iran to arm Palestinians at summit'}, {'title': 'US Five military members killed after aircraft crashes into Mediterranean'}, {'title': \"Play the Guardian's daily word game and share your score with your\\n        friends\"}, {'title': 'Climate crisisDeal to resettle climate-hit Tuvalu residents shows world ‘what’s at stake’, European officials say'}, {'title': 'Plastic pollutionCountries meet in Kenya to thrash out global treaty'}, {'title': 'Clean energyChina’s carbon emissions set for structural decline from next year'}, {'title': 'Greenhouse gas emissionsFloating factories of artificial leaves could make green fuel for jets and ships'}, {'title': 'Book of the day Dirty Linen by Martin Doyle review – growing up in Northern Ireland’s ‘murder triangle’'}, {'title': 'Penelope My Love reviewAdmirably honest portrait of a mother and her autistic child'}, {'title': 'Muzzle review Aaron Eckhart out-acted by German shepherd in cop-mutt thriller'}, {'title': 'Musical mysteriesThe unlikely album cover stars who became modern pop enigmas'}, {'title': 'Raised to see Israel as a ‘Jewish Disneyland’Two US film-makers tell a different story'}, {'title': 'An experts’ guideCulture to help understand the Israel-Palestine conflict'}, {'title': 'Tiny robots, giant stepsHow nanotechnology could improve cancer and fertility treatment'}, {'title': 'A sustainable alternativeHow researchers remade ‘the world’s most widely used petrochemical’'}, {'title': 'Reducing anaemiaWhy researchers are adding nutrients to salt and tea'}, {'title': 'Fashion’s microplastics problemCould a chemical found in many household products help alleviate?'}, {'title': 'Bose QC Ultra earbuds reviewTop-class noise cancelling with audio upgrade'}, {'title': \"Alex Bellos's Monday puzzleCan you solve it? Are you a lateral thinker?\"}, {'title': 'Beauty hacksCan you create fake freckles with brow dye?'}, {'title': 'Giraffepods, hot masks and a massage pillowTesting Japan’s answers to the perfect power nap'}, {'title': 'Should I worryThat my hot drink will give me cancer?'}, {'title': 'Readers replyWhy do so many people drink very hot tea – and how do they do it?'}, {'title': \"'People are keen for connection'The openness of talking to strangers – and the intimate stories they share\"}, {'title': 'My Blonde GF'}, {'title': 'People in IsraelHow have you been affected by the Israel-Hamas war?'}, {'title': 'HealthTell us: are you struggling with medical debt in the US?'}, {'title': 'People in GazaHow have you been affected by the Israel-Hamas war?'}, {'title': 'RelationshipsTell us: did you meet your romantic partner over the age of 60?'}, {'title': 'AnalysisBraverman’s sacking brings down curtain on turbulent tenure as UK home secretary'}, {'title': '‘He couldn’t take the pain’Gangster’s death prompts calls for UK assisted dying law'}, {'title': 'UKHow the far right hijacked Armistice Day'}, {'title': 'ExclusiveThousands of babies and toddlers falling sick from damp homes in Britain, NHS doctor warns'}, {'title': 'ExplainerHow to access the Guardian’s global editions'}, {'title': '‘I will not be silenced’US congresswoman Rashida Tlaib won’t stop fighting for Palestinian rights'}, {'title': 'Full reportNetanyahu sets out uncompromising postwar vision as Israel pounds Gaza'}, {'title': '‘A revenge term’What would another four years of Trump look like?'}, {'title': \"'Watched and assessed at all times'How Chinese firm linked to repression of Uyghurs aids Israeli surveillance in West Bank\"}, {'title': 'Lunch is servedMeet the team behind Nairobi’s vast school meals kitchen'}, {'title': 'The Audio Long ReadThe mass protest decade: why did the street movements of the 2010s fail? – podcast'}, {'title': 'Today in FocusRebuilding Paradise: five years on from California’s deadliest fire'}, {'title': 'WeekendWeekend podcast: Harry Potter’s stunt double on life after breaking his neck on set, and Marina Hyde on Nadine Dorries’s new book'}, {'title': 'Politics Weekly AmericaElections 2023: Republicans lose big on issue of abortion'}, {'title': 'The Audio Long Read‘Incoherence and inconsistency’: the inside story of the Rwanda deportation plan – podcast'}, {'title': 'Today in FocusSuella Braverman, the police and the protests'}, {'title': 'Football WeeklyChaos in Copenhagen and Arsenal’s easy night – Football Weekly Extra'}, {'title': 'DiwaliThe Hindu festival of lights – in pictures'}, {'title': 'Photos of the weekendRemembrance Sunday and a dog festival in Nepal'}, {'title': 'The big pictureCampesinos unite in Tina Modotti’s Mexico'}, {'title': 'Graphic designFemale trailblazers of block-printed design – in pictures'}, {'title': 'Twenty photographs of the weekThe week around the world'}, {'title': 'AustraliaHead On portrait award winners and finalists'}, {'title': 'Most viewed Most viewed'}]\n"
     ]
    }
   ],
   "source": [
    "# we apply the function to  The Guardian website\n",
    "url = \"https://www.theguardian.com/international\"\n",
    "\n",
    "get_news_headlines(url)"
   ]
  },
  {
   "cell_type": "markdown",
   "metadata": {},
   "source": [
    "2. a. Store scraped headlines in a CSV file."
   ]
  },
  {
   "cell_type": "code",
   "execution_count": 5,
   "metadata": {},
   "outputs": [],
   "source": [
    "import csv\n",
    "\n",
    "def store_headlines_to_csv(url, csv_file_name) :\n",
    "    \n",
    "    HEADERS = {'User-Agent': 'Mozilla/5.0 (Windows NT 10.0; Win64; x64) AppleWebKit/537.36 (KHTML, like Gecko) Chrome/58.0.3029.110 Safari/537.3'}\n",
    "\n",
    "    response = requests.get(url, headers=HEADERS)\n",
    "\n",
    "    if response.status_code == 200:\n",
    "        soup = BeautifulSoup(response.text, \"html.parser\")\n",
    "            \n",
    "        titles = soup.findAll([\"h3\"])\n",
    "          \n",
    "          # we use the with open Python command to open our file securely\n",
    "        with open(csv_file_name, 'w', newline='') as csvfile:\n",
    "            \n",
    "            # csv.writer is a class in the Python csv module that provides methods for writing lines inopen to create\n",
    "            csv_writer = csv.writer(csvfile)\n",
    "\n",
    "            csv_writer.writerow(['News headlines'])\n",
    "\n",
    "            \n",
    "            for title in titles:\n",
    "                \n",
    "                # we use this method to write each title to our csv file\n",
    "                csv_writer.writerow([title.text.strip()])\n",
    "                csv_writer.writerow('\\n')\n",
    "\n",
    "\n",
    "        print(f\"The titles have been stored in the file : {csv_file_name}\" )\n",
    "    else:\n",
    "        print(\"The request failed. Status : \", response.status_code)"
   ]
  },
  {
   "cell_type": "code",
   "execution_count": 6,
   "metadata": {},
   "outputs": [
    {
     "name": "stdout",
     "output_type": "stream",
     "text": [
      "The titles have been stored in the file : latest_news.csv\n"
     ]
    }
   ],
   "source": [
    "# we apply the function to  The Guardian website\n",
    "csv_file_name = \"latest_news.csv\"\n",
    "\n",
    "store_headlines_to_csv(url, csv_file_name)"
   ]
  },
  {
   "cell_type": "markdown",
   "metadata": {},
   "source": [
    "2. b. Search headlines based on a keyword."
   ]
  },
  {
   "cell_type": "code",
   "execution_count": 7,
   "metadata": {},
   "outputs": [],
   "source": [
    "def search_headlines(keyword, csv_file_name) :\n",
    "    \n",
    "    # we define a list that will take the results of titles found with the given keyword\n",
    "    \n",
    "    results = []\n",
    "\n",
    "    with open(csv_file_name, 'r') as csvfile:\n",
    "        csv_reader = csv.reader(csvfile)\n",
    "        \n",
    "        # Skip header\n",
    "        next(csv_reader)\n",
    "\n",
    "        for row in csv_reader:\n",
    "            title = row[0]\n",
    "\n",
    "            # Check if the keyword is present in the title (case-insensitive)\n",
    "            if keyword.lower() in title.lower():\n",
    "                results.append(title)\n",
    "\n",
    "    \n",
    "        if results:\n",
    "            print(f\"Search results for the keyword : '{keyword}':\")\n",
    "            print('')\n",
    "            for title in results:\n",
    "                print(title)\n",
    "                print('-----------------')\n",
    "        else:\n",
    "            print(f\"No title found for the keyword :  '{keyword}'.\")\n",
    "            \n",
    "    return results"
   ]
  },
  {
   "cell_type": "code",
   "execution_count": 8,
   "metadata": {},
   "outputs": [
    {
     "name": "stdout",
     "output_type": "stream",
     "text": [
      "Search results for the keyword : 'gaza':\n",
      "\n",
      "Full reportTwo major Gaza hospitals close to new patients as heavy fighting rages\n",
      "-----------------\n",
      "‘It was nearly sunset when I saw death up close’: a Gaza diary\n",
      "-----------------\n",
      "CartoonNicola Jennings on Macron’s Gaza ceasefire call\n",
      "-----------------\n",
      "People in GazaHow have you been affected by the Israel-Hamas war?\n",
      "-----------------\n",
      "Full reportNetanyahu sets out uncompromising postwar vision as Israel pounds Gaza\n",
      "-----------------\n"
     ]
    }
   ],
   "source": [
    "# Use function to search for titles in CSV file\n",
    "\n",
    "csv_file_name = \"latest_news.csv\"\n",
    "keyword = 'gaza'  \n",
    "results = search_headlines(keyword, csv_file_name)"
   ]
  }
 ],
 "metadata": {
  "kernelspec": {
   "display_name": "Python 3",
   "language": "python",
   "name": "python3"
  },
  "language_info": {
   "codemirror_mode": {
    "name": "ipython",
    "version": 3
   },
   "file_extension": ".py",
   "mimetype": "text/x-python",
   "name": "python",
   "nbconvert_exporter": "python",
   "pygments_lexer": "ipython3",
   "version": "3.11.4"
  }
 },
 "nbformat": 4,
 "nbformat_minor": 2
}
