{
 "cells": [
  {
   "cell_type": "markdown",
   "metadata": {},
   "source": [
    "1.  Scrape news headlines from a chosen website and return them as a list of dictionaries."
   ]
  },
  {
   "cell_type": "code",
   "execution_count": 11,
   "metadata": {},
   "outputs": [],
   "source": [
    "import requests\n",
    "from bs4 import BeautifulSoup\n",
    "\n"
   ]
  },
  {
   "cell_type": "code",
   "execution_count": 12,
   "metadata": {},
   "outputs": [],
   "source": [
    "# we define a clean_text function to clean the output of unwanted characters for better readability\n",
    "def clean_text(str):\n",
    "    return str.replace(\"\\xa0\", \" \")"
   ]
  },
  {
   "cell_type": "code",
   "execution_count": 13,
   "metadata": {},
   "outputs": [],
   "source": [
    "def get_news_headlines(url):\n",
    "    \n",
    "    HEADERS = {'User-Agent': 'Mozilla/5.0 (Windows NT 10.0; Win64; x64) AppleWebKit/537.36 (KHTML, like Gecko) Chrome/58.0.3029.110 Safari/537.3'}\n",
    "\n",
    "    response = requests.get(url, headers=HEADERS)\n",
    "\n",
    "    # Check if the request was successful (status 200)\n",
    "    \n",
    "    if response.status_code == 200:\n",
    "        # Analyze the page's HTML content\n",
    "        soup = BeautifulSoup(response.text, \"html.parser\")\n",
    "        \n",
    "        # titles = soup.findAll([\"a\",\"h1\", \"h2\",\"h3\"])\n",
    "        #to make better use of our working example with the guardian site,\n",
    "        #  we remove the tags \"a\",\"h1\", \"h2\" so as not to retrieve unwanted elements from our dictionary.\n",
    "        \n",
    "        titles = soup.findAll([\"h3\"])\n",
    "        \n",
    "        # the following list will retrieve all titles found\n",
    "        title_list = []\n",
    "\n",
    "        for title in titles :\n",
    "            # we create the dictionary that will retrieve the title for each data item\n",
    "            news_i = {}\n",
    "            # apply the clean_text function to clean the text of \"\\xa0\" characters\n",
    "            news_i['title'] = clean_text(title.text.strip())\n",
    "            # each title is added to the list\n",
    "            title_list.append(news_i)\n",
    "    \n",
    "        #display\n",
    "        print(title_list)\n",
    "    else:\n",
    "        print(\"The request failed. Status : \", response.status_code)"
   ]
  },
  {
   "cell_type": "code",
   "execution_count": 14,
   "metadata": {},
   "outputs": [
    {
     "name": "stdout",
     "output_type": "stream",
     "text": [
      "[{'title': 'LiveEvacuation attempt at al-Quds hospital fails due to ‘continuing shelling’, Palestine Red Crescent Society says'}, {'title': 'Full reportTwo major Gaza hospitals close to new patients as heavy fighting rages'}, {'title': 'GazaIsraeli forces at gates of main hospital with hundreds trapped'}, {'title': '‘This was her heaven’Son returns to Israel kibbutz where his mother was abducted'}, {'title': 'LiveUK: David Cameron appointed foreign secretary as James Cleverly confirmed as home secretary'}, {'title': 'Suella Braverman Home secretary sacked after article criticising police'}, {'title': 'David CameronFormer prime minister returns to UK government as foreign secretary'}, {'title': 'Cabinet reshuffleJames Cleverly appointed home secretary in cabinet reshuffle'}, {'title': 'IndiaRescue operation under way to save workers trapped after tunnel collapse'}, {'title': 'LiveRussia-Ukraine war: Germany to ‘massively expand’ support for Ukraine, foreign minister says'}, {'title': 'UkraineZelenskiy warns nation to prepare for Russian attacks on infrastructure'}, {'title': 'ExclusiveWoman who suffered complications from vaginal mesh implant awarded at least £1m'}, {'title': 'HungaryPlan to target foreign influence fuels NGO and media fears'}, {'title': 'PhilippinesDuterte critic Leila de Lima granted bail after six years in jail'}, {'title': 'Period pantsHigh silver levels in some brands could pose health risk, study says'}, {'title': 'USTrump Jr set to return to witness stand as defense makes case in fraud trial'}, {'title': 'Storm DebiWeather warnings in place across UK and Ireland'}, {'title': 'The Marvels Film records worst ever North American opening weekend box office for MCU'}, {'title': '‘We save 98% of our patients’Inside a frontline Ukrainian field hospital'}, {'title': 'Xi-BidenMeeting overshadowed by conflicts in Ukraine and Israel – and US stance on Taiwan'}, {'title': 'AnalysisHow the UK far right hijacked Armistice Day'}, {'title': 'Grit and glamourHow Mahua Moitra shook up the misogyny and hypocrisy of Indian politics'}, {'title': '‘Leave the gold in the ground’Ecuador’s forest guardians mobilise against illegal mining in Amazon'}, {'title': '‘We can’t carry on’The godfather of microplastics on how to stop them'}, {'title': \"The pet I'll never forgetQueenie, the mysterious budgie who beguiled us all\"}, {'title': 'The big ideaWhat my grandmother’s lipstick taught me about the past'}, {'title': 'Miguel Atwood-Ferguson on his giant 50-song album‘I wanted to approach it like an experiment’'}, {'title': '‘Cary Grant’s whole life was a civil war’The TV drama unmasking Hollywood’s permatanned icon'}, {'title': 'A new start after 60I learned to surf – despite the alligators'}, {'title': 'When Palestinians tell the world what is happening to them, why are they met with disbelief?'}, {'title': 'Suella Braverman is sunk, and so are the Tories: a party of nihilists, led by a loser'}, {'title': 'African cinema has come a long way. Now we need funds and faith to unleash creativity'}, {'title': 'Germany is a good place to be Jewish. Unless, like me, you’re a Jew who criticises Israel'}, {'title': 'When the solution to your problem is David Cameron, you know you’re in deep trouble'}, {'title': 'I gave up wanting to belong and embraced being a maverick. I have never felt more free'}, {'title': 'BundesligaLeverkusen’s latest exhibition shows Alonso’s leaders are in it for long haul'}, {'title': 'Premier LeagueTen talking points from the weekend’s top-flight action'}, {'title': 'The damage done: how bad is elite sport for body and mind?'}, {'title': \"The RecapSign up and get our email of editors' picks\"}, {'title': 'England cricket: everyone responsible … no one accountable'}, {'title': 'Cricket World CupIndia ease to 160-run win over Netherlands'}, {'title': 'Formula OneBrawn and Button’s unlikely fairytale retold in new series'}, {'title': 'Jimbo FisherA college football coach gets $77m not to work as US education suffers'}, {'title': \"NFL reviewTexans' Stroud and Ryans have transformed post-Watson wasteland\"}, {'title': 'ATP FinalsDjokovic beats Rune to ensure he’ll finish year world No 1'}, {'title': 'CanadaShots fired at another Jewish school in Montreal amid tensions over Israel-Hamas war'}, {'title': 'US elections 2024Nikki Haley to launch $10m ad campaign in bid to overtake Ron DeSantis in GOP fight'}, {'title': 'US newsIf Trump wins, country would look like Putin and Orbán’s ‘illiberal democracy’, Raskin says'}, {'title': 'RepublicansTim Scott suspends presidential bid as Trump leads Republican pack'}, {'title': 'ThalidomideAustralian government will apologise to people affected by tragedy'}, {'title': 'SyriaUS announces fresh strikes on Iran-linked sites'}, {'title': 'ICCUK government challenged over inquiry into Israel’s conduct'}, {'title': 'FrancePoliticians join 100,000 at Paris march against antisemitism'}, {'title': 'USCongresswoman Ilhan Omar faces Democratic primary challenge from ex-Minneapolis official'}, {'title': 'Australia Eighty freed from immigration detention since landmark high court ruling'}, {'title': 'Weather trackerUnseasonably cold and hot weather hits Scandinavia and South America'}, {'title': \"Play the Guardian's daily word game and share your score with your\\n        friends\"}, {'title': 'Climate crisisDeal to resettle climate-hit Tuvalu residents shows world ‘what’s at stake’, European officials say'}, {'title': 'Plastic pollutionCountries meet in Kenya to thrash out global treaty'}, {'title': 'Clean energyChina’s carbon emissions set for structural decline from next year'}, {'title': 'Greenhouse gas emissionsFloating factories of artificial leaves could make green fuel for jets and ships'}, {'title': 'NetflixMovie Hurricane Season stirs debate over violent depiction of Mexico'}, {'title': 'Miguel Atwood-Ferguson on his giant 50-song album‘I wanted to approach it like an experiment’'}, {'title': 'Book of the day Dirty Linen by Martin Doyle review – growing up in Northern Ireland’s ‘murder triangle’'}, {'title': '‘I was told I had lost my mojo’AJ Odudu on being sacked, fighting back – and her stunning second act'}, {'title': 'Penelope My Love reviewAdmirably honest portrait of a mother and her autistic child'}, {'title': 'Muzzle review Aaron Eckhart out-acted by German shepherd in cop-mutt thriller'}, {'title': 'Tiny robots, giant stepsHow nanotechnology could improve cancer and fertility treatment'}, {'title': 'A sustainable alternativeHow researchers remade ‘the world’s most widely used petrochemical’'}, {'title': 'Reducing anaemiaWhy researchers are adding nutrients to salt and tea'}, {'title': 'Fashion’s microplastics problemCould a chemical found in many household products help alleviate?'}, {'title': '‘A delirious deco dream’Former TB sanatorium is now Finland’s most unusual holiday let'}, {'title': 'A kitchen in RomeRachel Roddy’s recipe for potato flatbreads with anchovy butter'}, {'title': 'Bose QC Ultra earbuds reviewTop-class noise cancelling with audio upgrade'}, {'title': \"Alex Bellos's Monday puzzleCan you solve it? Are you a lateral thinker?\"}, {'title': 'Beauty hacksCan you create fake freckles with brow dye?'}, {'title': 'The ConversationAre your kids good around other people but behave badly with you? It’s all about consequences'}, {'title': 'My Blonde GF'}, {'title': 'People in IsraelHow have you been affected by the Israel-Hamas war?'}, {'title': 'HealthTell us: are you struggling with medical debt in the US?'}, {'title': 'People in GazaHow have you been affected by the Israel-Hamas war?'}, {'title': 'RelationshipsTell us: did you meet your romantic partner over the age of 60?'}, {'title': '‘We feel safe here’Cyprus becomes ‘haven’ after Hamas attack'}, {'title': '‘I’m more worried today than I was on January 6’Top conservative’s warning to America'}, {'title': 'AnalysisBraverman’s sacking brings down curtain on turbulent tenure as UK home secretary'}, {'title': 'UKHow the far right hijacked Armistice Day'}, {'title': '‘He couldn’t take the pain’Gangster’s death prompts calls for UK assisted dying law'}, {'title': 'WildlifeWolves have returned to California after nearly 150 years. They bring an unexpected problem'}, {'title': 'Full reportNetanyahu sets out uncompromising postwar vision as Israel pounds Gaza'}, {'title': '‘A revenge term’What would another four years of Trump look like?'}, {'title': \"'Watched and assessed at all times'How Chinese firm linked to repression of Uyghurs aids Israeli surveillance in West Bank\"}, {'title': 'Lunch is servedMeet the team behind Nairobi’s vast school meals kitchen'}, {'title': 'The Audio Long ReadThe mass protest decade: why did the street movements of the 2010s fail? – podcast'}, {'title': 'Today in FocusRebuilding Paradise: five years on from California’s deadliest fire'}, {'title': 'WeekendWeekend podcast: Harry Potter’s stunt double on life after breaking his neck on set, and Marina Hyde on Nadine Dorries’s new book'}, {'title': 'Politics Weekly AmericaElections 2023: Republicans lose big on issue of abortion'}, {'title': 'The Audio Long Read‘Incoherence and inconsistency’: the inside story of the Rwanda deportation plan – podcast'}, {'title': 'Today in FocusSuella Braverman, the police and the protests'}, {'title': 'Football WeeklyChaos in Copenhagen and Arsenal’s easy night – Football Weekly Extra'}, {'title': 'Photos of the dayProtests, Cameron’s return and Cow Worship Day'}, {'title': 'The Guardian picture essayA year on the River Thames, part four'}, {'title': 'DiwaliThe Hindu festival of lights – in pictures'}, {'title': 'The big pictureCampesinos unite in Tina Modotti’s Mexico'}, {'title': 'Graphic designFemale trailblazers of block-printed design – in pictures'}, {'title': 'Twenty photographs of the weekThe week around the world'}, {'title': 'Most viewed Most viewed'}]\n"
     ]
    }
   ],
   "source": [
    "# we apply the function to  The Guardian website\n",
    "url = \"https://www.theguardian.com/international\"\n",
    "\n",
    "get_news_headlines(url)"
   ]
  },
  {
   "cell_type": "markdown",
   "metadata": {},
   "source": [
    "2. a. Store scraped headlines in a CSV file."
   ]
  },
  {
   "cell_type": "code",
   "execution_count": 15,
   "metadata": {},
   "outputs": [],
   "source": [
    "import csv\n",
    "\n",
    "def store_headlines_to_csv(url, csv_file_name) :\n",
    "    \n",
    "    HEADERS = {'User-Agent': 'Mozilla/5.0 (Windows NT 10.0; Win64; x64) AppleWebKit/537.36 (KHTML, like Gecko) Chrome/58.0.3029.110 Safari/537.3'}\n",
    "\n",
    "    response = requests.get(url, headers=HEADERS)\n",
    "\n",
    "    if response.status_code == 200:\n",
    "        soup = BeautifulSoup(response.text, \"html.parser\")\n",
    "            \n",
    "        \n",
    "        titles = soup.findAll([\"h3\"]) \n",
    "          # we use the with open Python command to open our file securely\n",
    "        with open(csv_file_name, 'w', newline='') as csvfile:\n",
    "            \n",
    "            # csv.writer is a class in the Python csv module that provides methods for writing lines inopen to create\n",
    "            csv_writer = csv.writer(csvfile)\n",
    "            # our first line will be the title of our file\n",
    "            csv_writer.writerow(['NEWS HEADLINES'])\n",
    "            # skip a line for better readability\n",
    "            csv_writer.writerow('\\n')\n",
    "            \n",
    "            for title in titles:\n",
    "                \n",
    "                # we use this method to write each title to our csv file\n",
    "                csv_writer.writerow([title.text.strip()])\n",
    "                # skip a line for better readability\n",
    "                csv_writer.writerow('\\n')\n",
    "\n",
    "        #display\n",
    "        print(f\"The titles have been stored in the file : {csv_file_name}\" )\n",
    "    else:\n",
    "        print(\"The request failed. Status : \", response.status_code)"
   ]
  },
  {
   "cell_type": "code",
   "execution_count": 16,
   "metadata": {},
   "outputs": [
    {
     "name": "stdout",
     "output_type": "stream",
     "text": [
      "The titles have been stored in the file : latest_news.csv\n"
     ]
    }
   ],
   "source": [
    "# we apply the function to  The Guardian website\n",
    "csv_file_name = \"latest_news.csv\"\n",
    "\n",
    "store_headlines_to_csv(url, csv_file_name)"
   ]
  },
  {
   "cell_type": "markdown",
   "metadata": {},
   "source": [
    "2. b. Search headlines based on a keyword."
   ]
  },
  {
   "cell_type": "code",
   "execution_count": 17,
   "metadata": {},
   "outputs": [],
   "source": [
    "def search_headlines(keyword, csv_file_name) :\n",
    "    \n",
    "    # we define a list that will take the results of titles found with the given keyword\n",
    "    \n",
    "    results = []\n",
    "\n",
    "    # open the file in read mode\n",
    "    with open(csv_file_name, 'r') as csvfile:\n",
    "        csv_reader = csv.reader(csvfile)\n",
    "        \n",
    "        # Skip header\n",
    "        next(csv_reader)\n",
    "\n",
    "        # browse the lines in our file\n",
    "        for row in csv_reader:\n",
    "            title = row[0]\n",
    "\n",
    "            # Check if the keyword is present in the title (case-insensitive)\n",
    "            if keyword.lower() in title.lower():\n",
    "                results.append(title)\n",
    "                # the title found is added to the list\n",
    "\n",
    "\n",
    "        # for each result obtained, the title is displayed\n",
    "        if results:\n",
    "            print(f\"Search results for the keyword : '{keyword}':\")\n",
    "            print('')\n",
    "            for title in results:\n",
    "                print(title)\n",
    "                print('-----------------')\n",
    "        else:\n",
    "            print(f\"No title found for the keyword :  '{keyword}'.\")\n",
    "            \n",
    "    return results"
   ]
  },
  {
   "cell_type": "code",
   "execution_count": 18,
   "metadata": {},
   "outputs": [
    {
     "name": "stdout",
     "output_type": "stream",
     "text": [
      "Search results for the keyword : 'gaza':\n",
      "\n",
      "Full reportTwo major Gaza hospitals close to new patients as heavy fighting rages\n",
      "-----------------\n",
      "GazaIsraeli forces at gates of main hospital with hundreds trapped\n",
      "-----------------\n",
      "People in GazaHow have you been affected by the Israel-Hamas war?\n",
      "-----------------\n",
      "Full reportNetanyahu sets out uncompromising postwar vision as Israel pounds Gaza\n",
      "-----------------\n"
     ]
    }
   ],
   "source": [
    "# Use function to search for titles in CSV file\n",
    "\n",
    "csv_file_name = \"latest_news.csv\"\n",
    "keyword = 'gaza'  \n",
    "results = search_headlines(keyword, csv_file_name)"
   ]
  },
  {
   "cell_type": "markdown",
   "metadata": {},
   "source": [
    "3. implementation of a graphical interface"
   ]
  },
  {
   "cell_type": "code",
   "execution_count": 20,
   "metadata": {},
   "outputs": [
    {
     "name": "stdout",
     "output_type": "stream",
     "text": [
      "Search results for the keyword : 'evacuation':\n",
      "\n",
      "LiveEvacuation attempt at al-Quds hospital fails due to ‘continuing shelling’, Palestine Red Crescent Society says\n",
      "-----------------\n"
     ]
    }
   ],
   "source": [
    "import tkinter as tk\n",
    "\n",
    "# function to exit the window\n",
    "def exit():\n",
    "    window.destroy() \n",
    "\n",
    "# function to search for titles based on a keyword and insert them in our listbox\n",
    "def search():\n",
    "    # keyword entry\n",
    "    keyword = keyword_entry.get()\n",
    "    # results retrieves all titles found using the keyword\n",
    "    results = search_headlines(keyword, csv_file_name = \"latest_news.csv\")\n",
    "    #To delete items from the Listbox widget, we use the delete(0, END) method.\n",
    "    result_listbox.delete(0, tk.END)\n",
    "    \n",
    "    # our listbox retrieves all titles found using the keyword\n",
    "    if results:\n",
    "        for title in results:\n",
    "            result_listbox.insert(tk.END, title)\n",
    "            result_listbox.insert(tk.END, ' ')\n",
    "            # skip a line for better readability\n",
    "    else:\n",
    "        result_listbox.insert(tk.END, \"No results found.\")\n",
    "        \n",
    "        \n",
    "\n",
    "\n",
    "# Create main window\n",
    "window = tk.Tk()\n",
    "\n",
    "# we define the size of our window\n",
    "window.geometry(\"1000x1000\")\n",
    "\n",
    "# we define the title of our window\n",
    "window.title(\"HEADLINES OF THE DAY \")\n",
    "\n",
    "\n",
    "# reading the List of news headlines\n",
    "with open(csv_file_name, 'r') as csvfile:\n",
    "    #create reader\n",
    "    csv_reader = csv.reader(csvfile)\n",
    "    next(csv_reader)  # skip header\n",
    "    \n",
    "    # Iterate over CSV file\n",
    "    titles = [row[0] for row in csv_reader]\n",
    "\n",
    "# Create a listbox to display titles\n",
    "title_listbox = tk.Listbox(window, height=20,width=100)\n",
    "\n",
    "# Iterate over our titles to insert them in our title_listbox\n",
    "for title in titles:\n",
    "    title_listbox.insert(tk.END, title)\n",
    "title_listbox.pack()\n",
    "# the pack() method declares the position of widgets in relation to each other.\n",
    "\n",
    "# Search label and input field\n",
    "keyword_label = tk.Label(window, text=\"search by keyword:\")\n",
    "keyword_label.pack()\n",
    "\n",
    "# to accept text strings as keywords from a user.\n",
    "keyword_entry = tk.Entry(window)\n",
    "keyword_entry.pack()\n",
    "\n",
    "# Search button\n",
    "rechercher_bouton = tk.Button(window, text=\"Search\", command=search)\n",
    "rechercher_bouton.pack()\n",
    "\n",
    "# List of results\n",
    "result_listbox = tk.Listbox(window, width=100)\n",
    "result_listbox.pack()\n",
    "\n",
    "# Button to exit the window using the exit() function\n",
    "btn_exit = tk.Button(window,text=\"Exit application\",command=exit)\n",
    "btn_exit.pack()\n",
    "\n",
    "# Window execution\n",
    "window.mainloop()\n"
   ]
  }
 ],
 "metadata": {
  "kernelspec": {
   "display_name": "Python 3",
   "language": "python",
   "name": "python3"
  },
  "language_info": {
   "codemirror_mode": {
    "name": "ipython",
    "version": 3
   },
   "file_extension": ".py",
   "mimetype": "text/x-python",
   "name": "python",
   "nbconvert_exporter": "python",
   "pygments_lexer": "ipython3",
   "version": "3.11.4"
  }
 },
 "nbformat": 4,
 "nbformat_minor": 2
}
