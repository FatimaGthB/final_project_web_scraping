{
 "cells": [
  {
   "cell_type": "code",
   "execution_count": 35,
   "metadata": {},
   "outputs": [],
   "source": [
    "import requests\n",
    "from bs4 import BeautifulSoup\n",
    "import csv\n"
   ]
  },
  {
   "cell_type": "markdown",
   "metadata": {},
   "source": [
    "we make a request on a Web page and the status code will be returned"
   ]
  },
  {
   "cell_type": "code",
   "execution_count": 36,
   "metadata": {},
   "outputs": [],
   "source": [
    "def get_news_headlines(url):\n",
    "    HEADERS = {'User-Agent': 'Mozilla/5.0 (Windows NT 10.0; Win64; x64) AppleWebKit/537.36 (KHTML, like Gecko) Chrome/58.0.3029.110 Safari/537.3'}\n",
    "\n",
    "    response = requests.get(url, headers=HEADERS)\n",
    "\n",
    "    # Vérifiez si la requête a réussi (statut 200)\n",
    "    if response.status_code == 200:\n",
    "        # Analysez le contenu HTML de la page\n",
    "        soup = BeautifulSoup(response.text, \"html.parser\")\n",
    "        \n",
    "        titles = soup.findAll([\"h3\"])\n",
    "        \n",
    "        title_list = []\n",
    "\n",
    "        for title in titles :\n",
    "            news_i = {}\n",
    "            news_i['title'] = title.text.strip()\n",
    "\n",
    "            title_list.append(news_i)\n",
    "    \n",
    "       \n",
    "        print(title_list)\n",
    "    else:\n",
    "        print(\"La requête a échoué. Statut : \", response.status_code)\n"
   ]
  },
  {
   "cell_type": "code",
   "execution_count": 37,
   "metadata": {},
   "outputs": [],
   "source": [
    "def store_headlines_to_csv(url, csv_file_name) :\n",
    "    HEADERS = {'User-Agent': 'Mozilla/5.0 (Windows NT 10.0; Win64; x64) AppleWebKit/537.36 (KHTML, like Gecko) Chrome/58.0.3029.110 Safari/537.3'}\n",
    "\n",
    "    response = requests.get(url, headers=HEADERS)\n",
    "\n",
    "    if response.status_code == 200:\n",
    "        soup = BeautifulSoup(response.text, \"html.parser\")\n",
    "            \n",
    "        titles = soup.findAll([\"h3\"])\n",
    "          \n",
    "        with open(csv_file_name, 'w', newline='') as csvfile:\n",
    "            csv_writer = csv.writer(csvfile)\n",
    "\n",
    "            csv_writer.writerow(['News headlines'])\n",
    "\n",
    "            for title in titles:\n",
    "                \n",
    "                csv_writer.writerow([title.text.strip()])\n",
    "                csv_writer.writerow('\\n')\n",
    "\n",
    "\n",
    "        print(f'Les titres ont été stockés dans le fichier {csv_file_name}')\n",
    "    else:\n",
    "        print(\"La requête a échoué. Statut : \", response.status_code)"
   ]
  },
  {
   "cell_type": "code",
   "execution_count": 38,
   "metadata": {},
   "outputs": [
    {
     "name": "stdout",
     "output_type": "stream",
     "text": [
      "[{'title': 'LiveIsrael-Hamas war: destruction affecting Gaza hospitals ‘becoming unbearable’, says Red Cross; evacuations to Egypt suspended'}, {'title': 'GazaCivilian death rate in Israeli airstrikes higher than in past conflicts, study finds'}, {'title': 'USOutrage grows after ‘chilling call for genocide’ by Florida Republican'}, {'title': 'Hezbollah Israel kills seven more fighters on border with Lebanon'}, {'title': '‘Our wish is to be martyred’Defiant Hamas fighters count their losses in West Bank'}, {'title': 'Full reportGaza’s largest hospital being bombarded, WHO says'}, {'title': 'Gaza diary part 20‘A positive feeling – I saw my friend, we talked, we are still alive’'}, {'title': 'Donald TrumpFormer US president suggests he would use FBI to go after political rivals if elected in 2024'}, {'title': \"TrumpJudge sets new deadlines that could delay ex-president's classified documents trial\"}, {'title': 'UK politicsHome secretary’s fate in the balance as Sunak faces growing pressure to sack her'}, {'title': 'ConservativesParty heading in ‘very dark direction’, says former minister'}, {'title': 'ColombiaCountry passes ambitious ‘junk food law’ to tackle lifestyle diseases'}, {'title': 'Grammy nominations 2024SZA\\xa0leads a female-dominated year'}, {'title': 'Prince HarryHigh court claim against Mail publisher can continue, judge rules'}, {'title': 'LiveUS: House speaker Mike Johnson may release government funding proposal over weekend'}, {'title': 'USSon\\xa0of top Hollywood agent in custody after woman’s torso found in dumpster'}, {'title': 'South AfricaShared parental leave to be introduced after landmark judgment'}, {'title': 'Star WarsC-3PO’s gold head estimated to sell for above $1.22m'}, {'title': 'The Beatles Band set record 54-year gap between No 1 singles as Now and Then tops UK chart'}, {'title': '‘It was hell’Trans women testify on Argentina’s secret prisons of the past'}, {'title': 'Digested weekIvanka Trump provides the calm after the storm'}, {'title': '‘We are powerless’Indian villagers live in fear of torture in fight against bauxite mine'}, {'title': '‘I had no idea it would be so painful!’ Could you survive the real-life Squid Game?'}, {'title': '‘An exciting time’US\\xa0eye operation is just latest leap forward for transplants'}, {'title': 'Frank Borman obituaryCommander of first Apollo moon mission'}, {'title': 'A shocking episode of racist US violence The\\xa0Wilmington, North Carolina, massacre of 1898'}, {'title': 'Ask Annalisa BarbieriI’ve always wanted to visit England – and feel hurt that my two sisters have planned a trip there without me'}, {'title': 'The women being prosecuted in Great Britain for abortions‘Her confidentiality was completely destroyed’'}, {'title': '‘It’s about owning and projecting an aesthetic’The\\xa0rise of the stealth wealth shelf'}, {'title': 'Jazz rulebreaker Hiromi‘The piano is a plane that can take me anywhere’'}, {'title': 'We\\xa0are witnessing a pandemic of inhumanity: to halt the spread, we must cling to the law'}, {'title': 'Beware Suella Braverman and all the other vultures bent on exploiting Jewish and Muslim pain'}, {'title': 'The Guardian view Israel’s political strategy: it cannot just be unassailable military strength'}, {'title': 'In\\xa0remembrance of our fallen heroes, brave Suella Braverman goes over the top'}, {'title': 'I\\xa0saw a peregrine falcon swoop over Waitrose the other day. Look up, you won’t regret it'}, {'title': 'Don’t call it anti-feminist: the return of ‘girly’ fashion is all about having fun'}, {'title': '‘A special game’South Korea gears up for Hwang v Son showdown'}, {'title': 'TottenhamMaddison out until January with ankle injury'}, {'title': 'Premier LeagueTen\\xa0things to look out for this weekend'}, {'title': 'Team newsPredicted Premier League lineups for the weekend'}, {'title': 'CricketSri\\xa0Lanka suspended by ICC over ‘government interference’'}, {'title': 'Barney RonayFeuding Pakistan’s run is on the ropes'}, {'title': 'Kane leads England trio striking blow for old-school mavericks'}, {'title': 'Football DailySign up for our free newsletter'}, {'title': 'Cricket World CupSouth Africa win tight match as Afghanistan bow out with pride'}, {'title': '‘They bring us joy’Afghans swept up in fairytale'}, {'title': 'Emma HayesDeparting Chelsea coach claims ‘private conversations’ leaked'}, {'title': 'FootballNewcastle will oppose Premier League rule to block transfers, says Howe'}, {'title': 'TennisMurray splits from coach Lendl after difficult season'}, {'title': 'Rugby unionWorld Cup winners on show as Pollard and Wiese return for Tigers'}, {'title': \"'Reason has prevailed' EU\\xa0strikes landmark deal on law to restore and protect nature\"}, {'title': 'SpainPolice investigate possible Iran link to shooting of former politician'}, {'title': 'SpaceFrank Borman, commander of first Apollo moon mission, dies aged 95'}, {'title': 'LondonCounterprotest groups plan to confront pro-Palestine marchers, say Met police'}, {'title': 'SwedenSchools minister declares free school ‘system failure’'}, {'title': 'North KoreaKim\\xa0Jong-un closes slate of embassies as sanctions bite'}, {'title': 'DiageoDrop in Latin American drinking prompts firm to issue profits warning'}, {'title': 'CybercrimeRansomware attack on China’s biggest bank disrupts US Treasury market'}, {'title': 'Young Thug Lyrics to be introduced as evidence in trial of rapper'}, {'title': 'HawaiiDrought blamed as Maui pond turns bright pink'}, {'title': \"Play the Guardian's daily word game and share your score with your\\n        friends\"}, {'title': 'Climate changeAustralia to offer residency to displaced Tuvalu residents'}, {'title': 'Weather trackerFatal floods in Somalia and record heat in Tokyo'}, {'title': 'EnvironmentMicroplastic-eating plankton may be worsening crisis in oceans, say scientists'}, {'title': 'India Political blame game begins as ‘pollution season’ shrouds Delhi'}, {'title': 'The Beatles Band set record 54-year gap between No 1 singles as Now and Then tops UK chart'}, {'title': 'Week in geekCan\\xa0Greta Gerwig bring a new kind of magic to Netflix’s Narnia Chronicles?'}, {'title': 'The attention seeker’s attention seekerJared Leto climbs the Empire State Building'}, {'title': \"John le CarréAuthor's son to write new George Smiley novel\"}, {'title': 'Jonathan EscofferyLangston Hughes shifted my worldview'}, {'title': 'OA writers Brit Marling and Zal Batmanglij‘We’ve had to create our own reality’'}, {'title': 'Tiny robots, giant stepsHow\\xa0nanotechnology could improve cancer and fertility treatment'}, {'title': 'A sustainable alternativeHow\\xa0researchers remade ‘the world’s most widely used petrochemical’'}, {'title': 'Reducing anaemiaWhy\\xa0researchers are adding nutrients to salt and tea'}, {'title': 'Fashion’s microplastics problemCould a chemical found in many household products help alleviate?'}, {'title': 'The sweet spotRavneet Gill’s recipe for apple terrine with palmiers'}, {'title': 'This season’s It bag? The\\xa0subtle yet surprisingly spacious half-moon'}, {'title': 'Cocktail of the weekOisín Davis’ The Ginger Divil – recipe'}, {'title': 'ExperienceStevie Wonder secretly played on my band’s single'}, {'title': 'Make an impressionWhat to wear to visit an art gallery'}, {'title': 'Mental health merchConversation-changing or commodifying?'}, {'title': 'My Blonde GF'}, {'title': 'People in IsraelHow\\xa0have you been affected by the Israel-Hamas war?'}, {'title': 'HealthTell us: are you struggling with medical debt in the US?'}, {'title': 'People in GazaHow\\xa0have you been affected by the Israel-Hamas war?'}, {'title': 'RelationshipsTell us: did you meet your romantic partner over the age of 60?'}, {'title': 'Shotguns, AI, strobe lightsCan\\xa0anything help Canada’s polar bears and humans coexist?'}, {'title': 'Prince Harry Privacy trial will be uncomfortable for Mail’s publisher'}, {'title': 'SocietyWhy\\xa0are British women leading the world in binge drinking?'}, {'title': \"GermanyWhy\\xa0country's economic miracle is facing a new reality\"}, {'title': 'ExplainerHow\\xa0to access the Guardian’s global editions'}, {'title': 'This week at the UK Covid inquiryA\\xa0look inside Boris Johnson’s ‘feral’ No 10'}, {'title': 'Artificial intelligenceAI\\xa0could cause ‘catastrophic’ financial crisis, says Yuval Noah Harari'}, {'title': \"'We have all but remarried'I’m Israeli, my ex-husband is Palestinian – and our union has never been stronger\"}, {'title': '‘You couldn’t make it up’Barbra Streisand on taking on Hollywood, her pal King Charles and cloning her dog'}, {'title': 'Donald TrumpThe\\xa0emperor has no clothes. But were the election today, Trump would win'}, {'title': 'Politics Weekly AmericaElections 2023: Republicans lose big on issue of abortion'}, {'title': 'The Audio Long Read‘Incoherence and inconsistency’: the inside story of the Rwanda deportation plan – podcast'}, {'title': 'Today in FocusSuella Braverman, the police and the protests'}, {'title': 'Football WeeklyChaos in Copenhagen and Arsenal’s easy night – Football Weekly Extra'}, {'title': 'Politics Weekly UKThe\\xa0king’s speech, Suella Braverman and ‘hate marches’ – Politics Weekly UK'}, {'title': 'ScienceWhy\\xa0is the Amazon rainforest drying up? – podcast'}, {'title': 'Today in FocusWhat will it take to free the hostages taken by Hamas?'}, {'title': 'Twenty photographs of the weekThe\\xa0week around the world'}, {'title': 'Photos of the dayEchidna, Apophis asteroid and Taylor Swift'}, {'title': 'PhotographyThe\\xa0beauty of the natural world in monochrome'}, {'title': 'The week in wildlifeSparring horses, seal pups and an ultra-rare platypus'}, {'title': 'Old habits die hardDowntown Las Vegas – a photo essay'}, {'title': 'Photography2024 Lavazza calendar'}, {'title': 'Most viewed Most viewed'}]\n"
     ]
    }
   ],
   "source": [
    "url = \"https://www.theguardian.com/international\"\n",
    "\n",
    "get_news_headlines(url)\n"
   ]
  },
  {
   "cell_type": "code",
   "execution_count": 39,
   "metadata": {},
   "outputs": [
    {
     "name": "stdout",
     "output_type": "stream",
     "text": [
      "Les titres ont été stockés dans le fichier latest_news.csv\n"
     ]
    }
   ],
   "source": [
    "csv_file_name = \"latest_news.csv\"\n",
    "\n",
    "store_headlines_to_csv(url, csv_file_name)"
   ]
  },
  {
   "cell_type": "code",
   "execution_count": 40,
   "metadata": {},
   "outputs": [],
   "source": [
    "def search_headlines(keyword, csv_file_name) :\n",
    "    results = []\n",
    "\n",
    "    with open(csv_file_name, 'r') as csvfile:\n",
    "        csv_reader = csv.reader(csvfile)\n",
    "        \n",
    "        # Ignorer l'en-tête\n",
    "        next(csv_reader)\n",
    "\n",
    "        for row in csv_reader:\n",
    "            title = row[0]\n",
    "\n",
    "            # Vérifier si le mot-clé est présent dans le titre (en ignorant la casse)\n",
    "            if keyword.lower() in title.lower():\n",
    "                results.append(title)\n",
    "\n",
    "    \n",
    "\n",
    "\n",
    "\n",
    "        if results:\n",
    "            print(f\"Search results for '{keyword}':\")\n",
    "            print('')\n",
    "            for title in results:\n",
    "                print(title)\n",
    "                print('-----------------')\n",
    "        else:\n",
    "            print(f\"Aucun titre trouvé pour '{keyword}'.\")\n",
    "            \n",
    "    return results"
   ]
  },
  {
   "cell_type": "code",
   "execution_count": 41,
   "metadata": {},
   "outputs": [
    {
     "name": "stdout",
     "output_type": "stream",
     "text": [
      "Search results for 'gaza':\n",
      "\n",
      "LiveIsrael-Hamas war: destruction affecting Gaza hospitals ‘becoming unbearable’, says Red Cross; evacuations to Egypt suspended\n",
      "-----------------\n",
      "GazaCivilian death rate in Israeli airstrikes higher than in past conflicts, study finds\n",
      "-----------------\n",
      "Full reportGaza’s largest hospital being bombarded, WHO says\n",
      "-----------------\n",
      "Gaza diary part 20‘A positive feeling – I saw my friend, we talked, we are still alive’\n",
      "-----------------\n",
      "People in GazaHow have you been affected by the Israel-Hamas war?\n",
      "-----------------\n"
     ]
    }
   ],
   "source": [
    "# Utilisation de la fonction pour rechercher des titres dans le fichier CSV\n",
    "csv_file_name = \"latest_news.csv\"\n",
    "keyword = 'gaza'  \n",
    "results = search_headlines(keyword, csv_file_name)\n"
   ]
  },
  {
   "cell_type": "markdown",
   "metadata": {},
   "source": [
    "implémentons la fenêtre tkinter"
   ]
  },
  {
   "cell_type": "code",
   "execution_count": 42,
   "metadata": {},
   "outputs": [
    {
     "name": "stdout",
     "output_type": "stream",
     "text": [
      "Search results for 'gaza':\n",
      "\n",
      "LiveIsrael-Hamas war: destruction affecting Gaza hospitals ‘becoming unbearable’, says Red Cross; evacuations to Egypt suspended\n",
      "-----------------\n",
      "GazaCivilian death rate in Israeli airstrikes higher than in past conflicts, study finds\n",
      "-----------------\n",
      "Full reportGaza’s largest hospital being bombarded, WHO says\n",
      "-----------------\n",
      "Gaza diary part 20‘A positive feeling – I saw my friend, we talked, we are still alive’\n",
      "-----------------\n",
      "People in GazaHow have you been affected by the Israel-Hamas war?\n",
      "-----------------\n"
     ]
    }
   ],
   "source": [
    "import tkinter as tk\n",
    "\n",
    "def exit():\n",
    "    window.destroy() \n",
    "\n",
    "def search():\n",
    "    keyword = keyword_entry.get()\n",
    "    results = search_headlines(keyword, csv_file_name = \"latest_news.csv\")\n",
    "    result_listbox.delete(0, tk.END)\n",
    "    if results:\n",
    "        for title in results:\n",
    "            result_listbox.insert(tk.END, title)\n",
    "            result_listbox.insert(tk.END, ' ')\n",
    "    else:\n",
    "        result_listbox.insert(tk.END, \"No results found.\")\n",
    "        \n",
    "        \n",
    "\n",
    "\n",
    "# Créer la fenêtre principale\n",
    "window = tk.Tk()\n",
    "window.geometry(\"400x800\")\n",
    "#window.config(bg=\"#A569BD\")\n",
    "window.title(\"HEADLINES OF THE DAY \")\n",
    "\n",
    "\n",
    "# Liste des titres d'actualités\n",
    "with open(csv_file_name, 'r') as csvfile:\n",
    "    csv_reader = csv.reader(csvfile)\n",
    "    next(csv_reader)  # Ignorer l'en-tête\n",
    "    titles = [row[0] for row in csv_reader]\n",
    "\n",
    "# Créer une liste déroulante (Listbox) pour afficher les titres\n",
    "title_listbox = tk.Listbox(window, height=25,width=100)\n",
    "for title in titles:\n",
    "    title_listbox.insert(tk.END, title)\n",
    "title_listbox.pack()\n",
    "\n",
    "# Libellé et champ de saisie pour la recherche\n",
    "keyword_label = tk.Label(window, text=\"search by keyword:\")\n",
    "keyword_label.pack()\n",
    "\n",
    "\n",
    "keyword_entry = tk.Entry(window)\n",
    "keyword_entry.pack()\n",
    "\n",
    "# Bouton de recherche\n",
    "rechercher_bouton = tk.Button(window, text=\"Search\", command=search)\n",
    "rechercher_bouton.pack()\n",
    "\n",
    "# Liste des résultats\n",
    "result_listbox = tk.Listbox(window, width=100)\n",
    "result_listbox.pack()\n",
    "\n",
    "btn_exit = tk.Button(window,text=\"Exit application\",command=exit)\n",
    "btn_exit.pack()\n",
    "\n",
    "# Exécution de la fenêtre\n",
    "window.mainloop()"
   ]
  }
 ],
 "metadata": {
  "kernelspec": {
   "display_name": "Python 3",
   "language": "python",
   "name": "python3"
  },
  "language_info": {
   "codemirror_mode": {
    "name": "ipython",
    "version": 3
   },
   "file_extension": ".py",
   "mimetype": "text/x-python",
   "name": "python",
   "nbconvert_exporter": "python",
   "pygments_lexer": "ipython3",
   "version": "3.11.4"
  }
 },
 "nbformat": 4,
 "nbformat_minor": 2
}
