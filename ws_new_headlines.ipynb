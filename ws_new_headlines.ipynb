{
 "cells": [
  {
   "cell_type": "code",
   "execution_count": 1,
   "metadata": {},
   "outputs": [],
   "source": [
    "import requests\n",
    "from bs4 import BeautifulSoup\n",
    "#import numpy as np\n",
    "#import pandas  as pd\n",
    "import csv\n"
   ]
  },
  {
   "cell_type": "markdown",
   "metadata": {},
   "source": [
    "we make a request on a Web page and the status code will be returned"
   ]
  },
  {
   "cell_type": "code",
   "execution_count": 2,
   "metadata": {},
   "outputs": [],
   "source": [
    "def get_news_headlines(url):\n",
    "    HEADERS = {'User-Agent': 'Mozilla/5.0 (Windows NT 10.0; Win64; x64) AppleWebKit/537.36 (KHTML, like Gecko) Chrome/58.0.3029.110 Safari/537.3'}\n",
    "\n",
    "    response = requests.get(url, headers=HEADERS)\n",
    "\n",
    "    # Vérifiez si la requête a réussi (statut 200)\n",
    "    if response.status_code == 200:\n",
    "        # Analysez le contenu HTML de la page\n",
    "        soup = BeautifulSoup(response.text, \"html.parser\")\n",
    "        \n",
    "        titles = soup.findAll([\"h3\"])\n",
    "        \n",
    "        title_list = []\n",
    "\n",
    "        for title in titles :\n",
    "            news_i = {}\n",
    "            news_i['title'] = title.text.strip()\n",
    "\n",
    "            title_list.append(news_i)\n",
    "    \n",
    "       \n",
    "        print(title_list)\n",
    "    else:\n",
    "        print(\"La requête a échoué. Statut : \", response.status_code)\n"
   ]
  },
  {
   "cell_type": "code",
   "execution_count": 3,
   "metadata": {},
   "outputs": [],
   "source": [
    "def store_headlines_to_csv(url, csv_file_name) :\n",
    "    HEADERS = {'User-Agent': 'Mozilla/5.0 (Windows NT 10.0; Win64; x64) AppleWebKit/537.36 (KHTML, like Gecko) Chrome/58.0.3029.110 Safari/537.3'}\n",
    "\n",
    "    response = requests.get(url, headers=HEADERS)\n",
    "\n",
    "    if response.status_code == 200:\n",
    "        soup = BeautifulSoup(response.text, \"html.parser\")\n",
    "            \n",
    "        titles = soup.findAll([\"h3\"])\n",
    "          \n",
    "        with open(csv_file_name, 'w', newline='',encoding=\"utf-8\") as csvfile:\n",
    "            csv_writer = csv.writer(csvfile)\n",
    "\n",
    "            csv_writer.writerow(['News headlines'])\n",
    "\n",
    "            for title in titles:\n",
    "                \n",
    "                csv_writer.writerow([title.text.strip()])\n",
    "                csv_writer.writerow('\\n')\n",
    "\n",
    "\n",
    "        print(f'Les titres ont été stockés dans le fichier {csv_file_name}')\n",
    "    else:\n",
    "        print(\"La requête a échoué. Statut : \", response.status_code)"
   ]
  },
  {
   "cell_type": "code",
   "execution_count": 4,
   "metadata": {},
   "outputs": [
    {
     "name": "stdout",
     "output_type": "stream",
     "text": [
      "Les titres ont été stockés dans le fichier latest_news.csv\n"
     ]
    }
   ],
   "source": [
    "url = \"https://www.reuters.com/\"\n",
    "\n",
    "csv_file_name = \"latest_news.csv\"\n",
    "\n",
    "store_headlines_to_csv(url, csv_file_name)"
   ]
  },
  {
   "cell_type": "code",
   "execution_count": 5,
   "metadata": {},
   "outputs": [
    {
     "name": "stdout",
     "output_type": "stream",
     "text": [
      "[{'title': 'Wall St rebounds as traders digest Powell comments'}, {'title': 'Biden to meet Xi on Wednesday in San Francisco Bay area, US says'}, {'title': 'US Air Force\\'s new B-21 Raider \"flying wing\" bomber takes first flight - Reuters witness'}, {'title': 'Greenland glaciers melt five times faster than 20 years ago'}, {'title': 'UN mourns record death toll in war with over 100 employees killed in Gaza'}, {'title': 'Israel says it will divert some far-right coalition party funds to war effort'}, {'title': 'Over 1,000 USAID officials call for Gaza ceasefire in letter'}, {'title': 'In Gaza, hospital procedures without anaesthetics prompted screams, prayers'}, {'title': 'US House Republicans aim to release shutdown-averting measure Saturday'}, {'title': 'Biden to register for South Carolina primary, seen as first test of re-election strength'}, {'title': \"US appeals court calls Biden's 'ghost gun' limits unlawful\"}, {'title': 'Democratic US Senator Joe Manchin will not seek re-election in 2024'}, {'title': \"EU has 'Plan B' if Hungary vetoes 50 billion euro aid for Ukraine\"}, {'title': 'Prince Harry and Elton John can take case against Daily Mail publisher to trial'}, {'title': 'UK PM Sunak under pressure to sack interior minister over police criticism'}, {'title': 'Portuguese fear March election will not solve political crisis'}, {'title': \"In South America's Andes, a shrinking Lake Titicaca rings climate alarm bell\"}, {'title': 'Canada PM Trudeau condemns violence after shots fired at Jewish schools'}, {'title': 'Colombia ELN guerrillas free kidnapped father of Liverpool soccer star Diaz'}, {'title': \"Argentina pollsters read tea leaves with presidential election 'wide open'\"}, {'title': \"Philippines denounces China for 'unprovoked acts of coercion' to block resupply mission\"}, {'title': 'Indian capital gets a breather as rain brings respite from smog'}, {'title': 'Pacific Islands leaders confirm former Nauru president as next top official'}, {'title': 'UN mourns record death toll in war with over 100 employees killed in Gaza'}, {'title': \"Arsenal's Arteta sweating on Saka, Odegaard fitness\"}, {'title': \"United and Rashford unhappy with striker's form says Ten Hag\"}, {'title': \"Brazil's Kerolin named NWSL's Most Valuable Player\"}, {'title': 'South Africa wrap up World Cup group stage with win over Afghanistan'}, {'title': 'Our top photos of the week'}, {'title': 'Thousands of civilians flee northern Gaza'}, {'title': \"Inside Israel's ground assault in Gaza\"}, {'title': 'Leading nominations for 2024 Grammy Awards'}, {'title': 'Cuban clock maker keeps on ticking despite economic woes'}, {'title': 'What is China’s Singles Day, and how is it celebrated?'}, {'title': 'Dua Lipa launches new single with London fan event'}, {'title': 'Browse'}, {'title': 'About Reuters'}, {'title': 'Stay Informed'}]\n"
     ]
    }
   ],
   "source": [
    "get_news_headlines(url)"
   ]
  },
  {
   "cell_type": "code",
   "execution_count": 6,
   "metadata": {},
   "outputs": [],
   "source": [
    "def search_headlines(keyword, csv_file_name) :\n",
    "    results = []\n",
    "\n",
    "    with open(csv_file_name, 'r', encoding=\"utf-8\") as csvfile:\n",
    "        csv_reader = csv.reader(csvfile)\n",
    "        \n",
    "        # Ignorer l'en-tête\n",
    "        next(csv_reader)\n",
    "\n",
    "        for row in csv_reader:\n",
    "            title = row[0]\n",
    "\n",
    "            # Vérifier si le mot-clé est présent dans le titre (en ignorant la casse)\n",
    "            if keyword.lower() in title.lower():\n",
    "                results.append(title)\n",
    "\n",
    "    \n",
    "\n",
    "\n",
    "\n",
    "        if results:\n",
    "            print(f\"Search results for '{keyword}':\")\n",
    "            print('')\n",
    "            for title in results:\n",
    "                print(title)\n",
    "                print('-----------------')\n",
    "        else:\n",
    "            print(f\"Aucun titre trouvé pour '{keyword}'.\")\n",
    "            \n",
    "    return results"
   ]
  },
  {
   "cell_type": "code",
   "execution_count": 7,
   "metadata": {},
   "outputs": [
    {
     "name": "stdout",
     "output_type": "stream",
     "text": [
      "Search results for 'gaza':\n",
      "\n",
      "UN mourns record death toll in war with over 100 employees killed in Gaza\n",
      "-----------------\n",
      "Over 1,000 USAID officials call for Gaza ceasefire in letter\n",
      "-----------------\n",
      "In Gaza, hospital procedures without anaesthetics prompted screams, prayers\n",
      "-----------------\n",
      "UN mourns record death toll in war with over 100 employees killed in Gaza\n",
      "-----------------\n",
      "Thousands of civilians flee northern Gaza\n",
      "-----------------\n",
      "Inside Israel's ground assault in Gaza\n",
      "-----------------\n"
     ]
    }
   ],
   "source": [
    "# Utilisation de la fonction pour rechercher des titres dans le fichier CSV\n",
    "csv_file_name = \"latest_news.csv\"\n",
    "keyword = 'gaza'  \n",
    "results = search_headlines(keyword, csv_file_name)\n"
   ]
  }
 ],
 "metadata": {
  "kernelspec": {
   "display_name": "Python 3",
   "language": "python",
   "name": "python3"
  },
  "language_info": {
   "codemirror_mode": {
    "name": "ipython",
    "version": 3
   },
   "file_extension": ".py",
   "mimetype": "text/x-python",
   "name": "python",
   "nbconvert_exporter": "python",
   "pygments_lexer": "ipython3",
   "version": "3.11.4"
  }
 },
 "nbformat": 4,
 "nbformat_minor": 2
}
